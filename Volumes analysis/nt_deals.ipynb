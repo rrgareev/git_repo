{
 "cells": [
  {
   "cell_type": "code",
   "execution_count": 160,
   "metadata": {
    "scrolled": true
   },
   "outputs": [],
   "source": [
    "import pandas as pd\n",
    "import datetime as dt\n",
    "\n",
    "def conv_str_to_time(time_str):\n",
    "    time = dt.datetime.strptime(time_str, '%Y.%m.%d %H:%M:%S.%f')\n",
    "    return time\n",
    "\n",
    "#Reading the data\n",
    "df = pd.read_csv('17_04_NT_deals.csv', delimiter=';', index_col='Timestamp')\n",
    "column_to_del = []\n",
    "\n",
    "#Filter the data\n",
    "for column in df.columns:\n",
    "    if (column != 'Counterparty' and column != 'B/S' and column !='Instrument' and \\\n",
    "        column !='Tenor' and column != 'Price' and column != 'Amount' and \\\n",
    "        column !='Counterparty Trader' and column != 'Initiator Id' and \\\n",
    "        column != 'Initiator' and column != 'Timestamp'):\n",
    "            column_to_del.append(column)\n",
    "\n",
    "df = df.drop(columns=column_to_del, axis=1)    \n",
    "\n",
    "df = df[df['Instrument'] == 'USDRUB']\n",
    "df = df[df['Tenor'] == 'TOM']\n",
    "df = df[df['Counterparty'] != 'ALFN']\n",
    "\n",
    "df.reset_index(inplace=True)\n",
    "\n",
    "#change B/S to 1/-1\n",
    "dict_b_s = {'Buy': 1, 'Sell': -1}\n",
    "df['B/S'] = df['B/S'].map(dict_b_s)\n",
    "\n",
    "#Creating Volume*Side B/S\n",
    "df['Amount_b/s'] = df['B/S']*df['Amount']\n",
    "\n",
    "#Deleting LPs (need only external trades)\n",
    "i=0\n",
    "index_to_del = []\n",
    "for i in range(df.shape[0]):\n",
    "    counterparty = df['Counterparty Trader'].iloc[i]\n",
    "    if counterparty.endswith('LP'):\n",
    "        index_to_del.append(i)\n",
    "\n",
    "df = df.drop(labels=index_to_del, axis=0)\n",
    "df.sort_values(by='Timestamp', axis=0, ascending=True, inplace=True)\n",
    "\n",
    "# Particular client's under investigation trades\n",
    "client_trades = df[df['Counterparty'] == 'IMBX']\n",
    "\n",
    "#Other external trades\n",
    "ext_trades = df[df['Counterparty'] != 'IMBX']"
   ]
  },
  {
   "cell_type": "code",
   "execution_count": 161,
   "metadata": {},
   "outputs": [],
   "source": [
    "\n",
    "time_of_ext_trades = []\n",
    "volumes_ext =[]\n",
    "time_and_vol_ext = []\n",
    "\n",
    "time_of_client_trades = []\n",
    "volumes_client = []\n",
    "time_and_vol_client = []\n",
    "\n",
    "#going through Clients's trades to analyze\n",
    "#for each trade time we build range t0, t0+600 sec \n",
    "#within this range we build volumes\n",
    "#client_trades.shape[0]\n",
    "for j in range(client_trades.shape[0]):\n",
    "    time_0 = conv_str_to_time(client_trades['Timestamp'].iloc[j])\n",
    "    delta = dt.timedelta(seconds=600)\n",
    "    time_1 = time_0 + delta\n",
    "\n",
    "    time_str_0 = time_0.strftime('%Y.%m.%d %H:%M:%S')\n",
    "    time_str_1 = time_1.strftime('%Y.%m.%d %H:%M:%S')\n",
    "    \n",
    "    #selecting trades in time range [t0, t0+600 sec]\n",
    "    client_select = client_trades[client_trades['Timestamp'] >= time_str_0]\n",
    "    client_select = client_select[client_select['Timestamp'] <= time_str_1]\n",
    "    ext_select = ext_trades[ext_trades['Timestamp'] >= time_str_0]\n",
    "    ext_select = ext_select[ext_select['Timestamp'] <= time_str_1]\n",
    "    \n",
    "    for i in range(ext_select.shape[0]):\n",
    "        time_delta = (conv_str_to_time(ext_select['Timestamp'].iloc[i]) - time_0).total_seconds()\n",
    "        time_of_ext_trades.append(int(time_delta))\n",
    "        volumes_ext.append(ext_select['Amount_b/s'].iloc[i])\n",
    "        \n",
    "    time_and_vol_ext.append((time_of_ext_trades, volumes_ext))\n",
    "    time_of_ext_trades = []\n",
    "    volumes_ext = []\n",
    "\n",
    "    for i in range(client_select.shape[0]):\n",
    "        time_delta = (conv_str_to_time(client_select['Timestamp'].iloc[i]) - time_0).total_seconds()\n",
    "        time_of_client_trades.append(int(time_delta))\n",
    "        volumes_client.append(client_select['Amount_b/s'].iloc[i])\n",
    "        \n",
    "    time_and_vol_client.append((time_of_client_trades, volumes_client))\n",
    "    time_of_client_trades = []\n",
    "    volumes_client = []\n",
    "    \n",
    "    #exclude selected trades (not to duplicate in next step of calculation)\n",
    "    ext_trades = ext_trades[~ext_trades['Timestamp'].isin(ext_select)]\n",
    "    client_trades = client_trades[~client_trades['Timestamp'].isin(client_select)]"
   ]
  },
  {
   "cell_type": "code",
   "execution_count": 171,
   "metadata": {},
   "outputs": [
    {
     "name": "stdout",
     "output_type": "stream",
     "text": [
      "[-6000000.0, -7000000.0, -7500000.0, -7000000.0, -6500000.0, -5500000.0, -6352892.0, -6852892.0, -7352892.0, -8352892.0, -8402892.0, -7402892.0, -6402892.0, -5902892.0, -5908892.0, -4908892.0, 91108.0, -360892.0, -410892.0, -550892.0, -950892.0, -1450755.0, -1950755.0, -1962755.0, -1983755.0, -2483755.0, -2550755.0, -5556755.0, -5506755.0, -6506755.0, -6206755.0, -6006755.0, -7006755.0, -6606755.0, -6106755.0, -6606755.0, -6656755.0, -6156755.0, 3843245.0, 3718245.0, 3218245.0, 2218300.0, 1718300.0, 718300.0, 218300.0, 368300.0, 1368300.0, 1168300.0, 668300.0, 168300.0, -131700.0, -231700.0, 768300.0, -2231700.0, -1731700.0, -2731700.0, -1731700.0, -1231700.0, -731700.0, -231700.0, 18300.0, 1018300.0, 518300.0, -481700.0, -1481700.0, -481700.0, -5481700.0, -6481700.0, -7481700.0, -8481700.0, -8384700.0, -7884700.0, -7715830.0, -7215830.0, -6715830.0, -6215830.0, -5215830.0, -5715830.0, -5865762.0, -6365762.0, -6865762.0, -7365762.0, -7865762.0, -8365762.0, -8865762.0, -9365762.0, -8865762.0, -7865762.0, -7815762.0, -6815762.0, -6762762.0, -6559762.0, -6059762.0, -6009762.0, -6109762.0, -6044762.0, -7044762.0, -6958559.0, -5958559.0, -6058559.0, -6558559.0, -6605496.56, -6507496.56, -6574496.56, -6587496.56, -6087496.56, -5587496.56, -4587496.56, -5087496.56, -5087489.56, -4087489.56, -3587489.56, -3087489.56, -2937489.56, -3050489.56, -3202489.56, -3428489.56, -4428489.56, -3928489.56, -3428423.56, -2428423.56, -1928423.56, -1828423.56]\n"
     ]
    }
   ],
   "source": [
    "volume = -5000000\n",
    "volume_total = []\n",
    "time_delta = time_and_vol_ext[0][0]\n",
    "for vol in time_and_vol_ext[0][1]:\n",
    "    volume = volume +vol\n",
    "    volume_total.append(round(volume, 2))\n",
    "    \n",
    "print(volume_total)"
   ]
  },
  {
   "cell_type": "code",
   "execution_count": 170,
   "metadata": {},
   "outputs": [
    {
     "name": "stdout",
     "output_type": "stream",
     "text": [
      "[0, 26, 50, 51, 51, 75, 79, 79, 79, 79, 88, 89, 97, 102, 105, 116, 119, 120, 120, 123, 127, 130, 130, 140, 140, 140, 146, 149, 150, 154, 156, 156, 162, 170, 170, 178, 186, 189, 206, 212, 212, 216, 216, 216, 218, 218, 218, 220, 229, 229, 233, 246, 249, 254, 255, 256, 256, 256, 256, 256, 260, 260, 261, 261, 264, 266, 267, 267, 268, 268, 274, 275, 282, 283, 283, 284, 286, 288, 288, 313, 313, 318, 325, 325, 328, 328, 332, 334, 337, 343, 346, 347, 347, 348, 365, 383, 385, 399, 401, 418, 418, 430, 434, 452, 457, 459, 468, 472, 472, 497, 497, 504, 504, 511, 545, 561, 561, 582, 591, 591, 591, 598, 598]\n"
     ]
    }
   ],
   "source": [
    "print(time_and_vol_ext[0][0])"
   ]
  },
  {
   "cell_type": "code",
   "execution_count": 175,
   "metadata": {},
   "outputs": [
    {
     "data": {
      "image/png": "[encoded data removed]",
      "text/plain": [
       "<matplotlib.figure.Figure at 0x119d4ba8>"
      ]
     },
     "metadata": {},
     "output_type": "display_data"
    }
   ],
   "source": [
    "import matplotlib.pyplot as plt\n",
    "from matplotlib.pyplot import figure\n",
    "figure(figsize=(12, 10))\n",
    "plt.bar(time_delta, volume_total)\n",
    "plt.show()"
   ]
  },
  {
   "cell_type": "code",
   "execution_count": 140,
   "metadata": {},
   "outputs": [
    {
     "name": "stdout",
     "output_type": "stream",
     "text": [
      "[0.0, 26.0, 51.0, 52.0, 52.0, 76.0, 80.0, 80.0, 80.0, 80.0, 89.0, 90.0, 98.0, 103.0, 105.0, 117.0, 120.0, 120.0, 121.0, 124.0, 127.0, 130.0, 130.0, 140.0, 140.0, 141.0, 146.0, 149.0, 150.0, 155.0, 157.0, 157.0, 162.0, 170.0, 170.0, 179.0, 187.0, 189.0, 206.0, 212.0, 212.0, 216.0, 216.0, 216.0, 218.0, 219.0, 219.0, 221.0, 230.0, 230.0, 234.0, 247.0, 250.0, 254.0, 256.0, 256.0, 256.0, 256.0, 256.0, 256.0, 260.0, 260.0, 261.0, 262.0, 264.0, 267.0, 268.0, 268.0, 268.0, 269.0, 275.0, 276.0, 282.0, 284.0, 284.0, 285.0, 286.0, 288.0, 288.0, 313.0, 313.0, 319.0, 326.0, 326.0, 329.0, 329.0, 332.0, 334.0, 337.0, 343.0, 346.0, 347.0, 348.0, 348.0, 365.0, 383.0, 386.0, 400.0, 402.0, 418.0, 418.0, 430.0, 435.0, 452.0, 458.0, 460.0, 469.0, 473.0, 473.0, 498.0, 498.0, 505.0, 505.0, 512.0, 545.0, 562.0, 562.0, 582.0, 592.0, 592.0, 592.0, 598.0, 598.0]\n"
     ]
    },
    {
     "ename": "TypeError",
     "evalue": "can only concatenate list (not \"NoneType\") to list",
     "output_type": "error",
     "traceback": [
      "\u001b[1;31m---------------------------------------------------------------------------\u001b[0m",
      "\u001b[1;31mTypeError\u001b[0m                                 Traceback (most recent call last)",
      "\u001b[1;32m<ipython-input-140-2e2119aee63c>\u001b[0m in \u001b[0;36m<module>\u001b[1;34m()\u001b[0m\n\u001b[1;32m----> 1\u001b[1;33m \u001b[0mprint\u001b[0m\u001b[1;33m(\u001b[0m\u001b[0mtime_and_vol_ext\u001b[0m\u001b[1;33m[\u001b[0m\u001b[1;36m1\u001b[0m\u001b[1;33m]\u001b[0m\u001b[1;33m[\u001b[0m\u001b[1;36m0\u001b[0m\u001b[1;33m]\u001b[0m \u001b[1;33m+\u001b[0m \u001b[0mprint\u001b[0m\u001b[1;33m(\u001b[0m\u001b[0mtime_and_vol_ext\u001b[0m\u001b[1;33m[\u001b[0m\u001b[1;36m0\u001b[0m\u001b[1;33m]\u001b[0m\u001b[1;33m[\u001b[0m\u001b[1;36m0\u001b[0m\u001b[1;33m]\u001b[0m\u001b[1;33m)\u001b[0m\u001b[1;33m)\u001b[0m\u001b[1;33m\u001b[0m\u001b[0m\n\u001b[0m",
      "\u001b[1;31mTypeError\u001b[0m: can only concatenate list (not \"NoneType\") to list"
     ]
    }
   ],
   "source": [
    "print(time_and_vol_ext[1][0] + print(time_and_vol_ext[0][0]))"
   ]
  },
  {
   "cell_type": "code",
   "execution_count": 35,
   "metadata": {},
   "outputs": [
    {
     "name": "stdout",
     "output_type": "stream",
     "text": [
      "                    Timestamp Counterparty   B/S Instrument Tenor    Price  \\\n",
      "150   2019.04.17 10:10:45.862         IMBX  Sell     USDRUB   TOM  63.9582   \n",
      "385   2019.04.17 11:32:25.446         IMBX  Sell     USDRUB   TOM  63.8774   \n",
      "394   2019.04.17 11:38:21.738         IMBX  Sell     USDRUB   TOM  63.9145   \n",
      "1991  2019.04.17 13:18:07.916         IMBX   Buy     USDRUB   TOM  63.9314   \n",
      "1421  2019.04.17 17:45:05.197         IMBX  Sell     USDRUB   TOM  63.9057   \n",
      "\n",
      "          Amount Counterparty Trader  Initiator Id Initiator  \n",
      "150    5000000.0               IMBX3          4181     IMBX3  \n",
      "385    5000000.0               IMBX3          4181     IMBX3  \n",
      "394   10000000.0               IBMX2          1729     IBMX2  \n",
      "1991  10000000.0               IMBX3          4181     IMBX3  \n",
      "1421  20000000.0               IBMX2          1729     IBMX2  \n"
     ]
    }
   ],
   "source": [
    "print(imbx_trades)"
   ]
  },
  {
   "cell_type": "code",
   "execution_count": 44,
   "metadata": {},
   "outputs": [
    {
     "data": {
      "text/plain": [
       "count     -2556\n",
       "unique       -2\n",
       "top          -1\n",
       "freq      -2556\n",
       "Name: Timestamp, dtype: object"
      ]
     },
     "execution_count": 44,
     "metadata": {},
     "output_type": "execute_result"
    }
   ],
   "source": [
    "ext_trades[~ext_trades['Timestamp'].isin(ext_select)]"
   ]
  },
  {
   "cell_type": "code",
   "execution_count": 41,
   "metadata": {},
   "outputs": [
    {
     "data": {
      "text/plain": [
       "151     2019.04.17 10:10:46.348\n",
       "152     2019.04.17 10:11:11.894\n",
       "153     2019.04.17 10:11:36.555\n",
       "1526    2019.04.17 10:11:37.850\n",
       "1527    2019.04.17 10:11:37.850\n",
       "1528    2019.04.17 10:12:01.466\n",
       "154     2019.04.17 10:12:05.421\n",
       "155     2019.04.17 10:12:05.425\n",
       "156     2019.04.17 10:12:05.472\n",
       "157     2019.04.17 10:12:05.660\n",
       "158     2019.04.17 10:12:14.483\n",
       "1529    2019.04.17 10:12:15.448\n",
       "1530    2019.04.17 10:12:23.435\n",
       "1531    2019.04.17 10:12:28.734\n",
       "159     2019.04.17 10:12:30.968\n",
       "1532    2019.04.17 10:12:42.558\n",
       "1533    2019.04.17 10:12:45.718\n",
       "161     2019.04.17 10:12:45.926\n",
       "162     2019.04.17 10:12:46.600\n",
       "163     2019.04.17 10:12:49.421\n",
       "164     2019.04.17 10:12:53.099\n",
       "166     2019.04.17 10:12:56.199\n",
       "165     2019.04.17 10:12:56.199\n",
       "167     2019.04.17 10:13:06.108\n",
       "168     2019.04.17 10:13:06.221\n",
       "169     2019.04.17 10:13:06.685\n",
       "170     2019.04.17 10:13:12.158\n",
       "171     2019.04.17 10:13:14.948\n",
       "1534    2019.04.17 10:13:16.309\n",
       "172     2019.04.17 10:13:20.650\n",
       "                 ...           \n",
       "1566    2019.04.17 10:16:33.886\n",
       "207     2019.04.17 10:16:51.048\n",
       "1567    2019.04.17 10:17:09.218\n",
       "208     2019.04.17 10:17:11.654\n",
       "1568    2019.04.17 10:17:25.522\n",
       "1569    2019.04.17 10:17:27.762\n",
       "210     2019.04.17 10:17:44.194\n",
       "209     2019.04.17 10:17:44.194\n",
       "211     2019.04.17 10:17:56.081\n",
       "1570    2019.04.17 10:18:00.536\n",
       "212     2019.04.17 10:18:18.348\n",
       "213     2019.04.17 10:18:23.792\n",
       "1571    2019.04.17 10:18:25.435\n",
       "1572    2019.04.17 10:18:34.839\n",
       "1573    2019.04.17 10:18:38.586\n",
       "214     2019.04.17 10:18:38.671\n",
       "1575    2019.04.17 10:19:03.702\n",
       "1574    2019.04.17 10:19:03.702\n",
       "1577    2019.04.17 10:19:10.633\n",
       "1576    2019.04.17 10:19:10.633\n",
       "1578    2019.04.17 10:19:17.634\n",
       "215     2019.04.17 10:19:51.337\n",
       "216     2019.04.17 10:20:07.508\n",
       "217     2019.04.17 10:20:07.772\n",
       "218     2019.04.17 10:20:28.102\n",
       "1579    2019.04.17 10:20:37.790\n",
       "1580    2019.04.17 10:20:37.790\n",
       "1581    2019.04.17 10:20:37.823\n",
       "1582    2019.04.17 10:20:44.118\n",
       "1583    2019.04.17 10:20:44.118\n",
       "Name: Timestamp, Length: 123, dtype: object"
      ]
     },
     "execution_count": 41,
     "metadata": {},
     "output_type": "execute_result"
    }
   ],
   "source": [
    "ext_select['Timestamp']"
   ]
  },
  {
   "cell_type": "code",
   "execution_count": 53,
   "metadata": {},
   "outputs": [],
   "source": []
  },
  {
   "cell_type": "code",
   "execution_count": 54,
   "metadata": {},
   "outputs": [
    {
     "name": "stdout",
     "output_type": "stream",
     "text": [
      "                    Timestamp Counterparty  B/S Instrument Tenor      Price  \\\n",
      "0     2019.04.17 02:37:20.828         ASAN   -1     USDRUB   TOM  64.100000   \n",
      "1     2019.04.17 02:52:41.301         RZBM   -1     USDRUB   TOM  64.100500   \n",
      "1445  2019.04.17 04:10:31.691         OFCB    1     USDRUB   TOM  64.035900   \n",
      "2     2019.04.17 04:38:08.137         ASAN   -1     USDRUB   TOM  64.100500   \n",
      "3     2019.04.17 05:06:36.963         ASAN   -1     USDRUB   TOM  64.100500   \n",
      "4     2019.04.17 05:11:47.545         PRMC   -1     USDRUB   TOM  64.050500   \n",
      "1446  2019.04.17 05:46:14.520         ALFA    1     USDRUB   TOM  64.035900   \n",
      "1447  2019.04.17 05:46:18.432         ALFA    1     USDRUB   TOM  64.035900   \n",
      "5     2019.04.17 05:50:48.789         ASAN   -1     USDRUB   TOM  64.100000   \n",
      "1448  2019.04.17 06:23:26.735         OFCB    1     USDRUB   TOM  64.064100   \n",
      "6     2019.04.17 06:35:47.957         TCBM   -1     USDRUB   TOM  64.102000   \n",
      "1449  2019.04.17 06:51:16.357         ALFA    1     USDRUB   TOM  64.027000   \n",
      "1450  2019.04.17 06:52:04.710         INTF    1     USDRUB   TOM  64.081000   \n",
      "7     2019.04.17 07:08:00.562         TCBM   -1     USDRUB   TOM  64.123000   \n",
      "8     2019.04.17 07:19:57.980         TCBM   -1     USDRUB   TOM  64.098000   \n",
      "9     2019.04.17 07:22:34.140         ASAN   -1     USDRUB   TOM  64.074000   \n",
      "10    2019.04.17 07:24:11.746         OFCB   -1     USDRUB   TOM  64.074100   \n",
      "11    2019.04.17 07:24:27.376         ASAN   -1     USDRUB   TOM  64.074200   \n",
      "1451  2019.04.17 07:44:40.020         MRBR    1     USDRUB   TOM  64.007000   \n",
      "12    2019.04.17 07:48:48.430         PRMC   -1     USDRUB   TOM  64.075000   \n",
      "1452  2019.04.17 07:52:35.741         MRBR    1     USDRUB   TOM  64.028900   \n",
      "13    2019.04.17 07:55:03.499         ASAN   -1     USDRUB   TOM  64.077000   \n",
      "14    2019.04.17 07:59:41.396         ASAN   -1     USDRUB   TOM  64.077000   \n",
      "15    2019.04.17 08:08:51.816         ASAN   -1     USDRUB   TOM  64.077000   \n",
      "16    2019.04.17 08:14:03.713         ROSX   -1     USDRUB   TOM  64.077000   \n",
      "1453  2019.04.17 08:28:02.135         OFCB    1     USDRUB   TOM  64.053800   \n",
      "17    2019.04.17 08:33:53.170         ASAN   -1     USDRUB   TOM  64.067500   \n",
      "18    2019.04.17 08:38:20.285         TCBM   -1     USDRUB   TOM  64.070500   \n",
      "19    2019.04.17 08:38:41.471         TCBM   -1     USDRUB   TOM  64.070500   \n",
      "20    2019.04.17 08:38:51.308         TCBM   -1     USDRUB   TOM  64.070500   \n",
      "...                       ...          ...  ...        ...   ...        ...   \n",
      "2744  2019.04.17 18:00:12.529         UBSL    1     USDRUB   TOM  63.930500   \n",
      "2745  2019.04.17 18:00:12.530         UBSL    1     USDRUB   TOM  63.930500   \n",
      "1432  2019.04.17 18:00:46.035         ALFA   -1     USDRUB   TOM  63.930900   \n",
      "1433  2019.04.17 18:05:56.973         PDIF   -1     USDRUB   TOM  63.920900   \n",
      "1434  2019.04.17 18:06:00.050         PDIF   -1     USDRUB   TOM  63.921400   \n",
      "1435  2019.04.17 18:06:02.462         PDIF   -1     USDRUB   TOM  63.921900   \n",
      "2746  2019.04.17 18:06:04.918         UBSL    1     USDRUB   TOM  63.922500   \n",
      "1436  2019.04.17 18:06:12.360         PDIF   -1     USDRUB   TOM  63.925800   \n",
      "1437  2019.04.17 18:06:16.112         PDIF   -1     USDRUB   TOM  63.925900   \n",
      "1438  2019.04.17 18:06:18.909         RONI   -1     USDRUB   TOM  63.930179   \n",
      "1439  2019.04.17 18:06:19.007         UBSL   -1     USDRUB   TOM  63.928400   \n",
      "1440  2019.04.17 18:06:19.201         PDIF   -1     USDRUB   TOM  63.944100   \n",
      "2754  2019.04.17 18:06:21.901         MEIN    1     USDRUB   TOM  63.942500   \n",
      "2757  2019.04.17 18:06:25.226         BCSR    1     USDRUB   TOM  63.942500   \n",
      "2756  2019.04.17 18:06:25.226         BCSR    1     USDRUB   TOM  63.945000   \n",
      "2758  2019.04.17 18:06:25.443         UBSL    1     USDRUB   TOM  63.944200   \n",
      "2759  2019.04.17 18:06:30.124         UBSL    1     USDRUB   TOM  63.944200   \n",
      "2761  2019.04.17 18:06:35.101         BCSR    1     USDRUB   TOM  63.942500   \n",
      "2760  2019.04.17 18:06:35.101         BCSR    1     USDRUB   TOM  63.945000   \n",
      "1441  2019.04.17 18:07:08.650         CATX   -1     USDRUB   TOM  63.945000   \n",
      "2762  2019.04.17 18:07:35.608         ALFA    1     USDRUB   TOM  63.939700   \n",
      "2763  2019.04.17 18:08:28.683         ROSX    1     USDRUB   TOM  63.945200   \n",
      "1442  2019.04.17 18:08:37.279         RZBM   -1     USDRUB   TOM  63.949600   \n",
      "1443  2019.04.17 18:09:00.494         CATX   -1     USDRUB   TOM  63.951000   \n",
      "2764  2019.04.17 18:10:19.375         RONI    1     USDRUB   TOM  63.941921   \n",
      "2765  2019.04.17 18:11:06.663         UBSL    1     USDRUB   TOM  63.944900   \n",
      "2766  2019.04.17 18:11:08.938         UBSL    1     USDRUB   TOM  63.943500   \n",
      "2767  2019.04.17 18:11:09.290         UBSL    1     USDRUB   TOM  63.944000   \n",
      "1444  2019.04.17 18:11:20.798         UBSL   -1     USDRUB   TOM  63.937500   \n",
      "2768  2019.04.17 18:11:53.462         UBSL    1     USDRUB   TOM  63.935000   \n",
      "\n",
      "         Amount Counterparty Trader  Initiator Id        Initiator  \n",
      "0      200000.0             ASAN_OM           495          ASAN_OM  \n",
      "1      100000.0        RZBM00_00_OM          2276     RZBM00_00_OM  \n",
      "1445   399000.0             OFCB_OM           569          OFCB_OM  \n",
      "2      150000.0             ASAN_OM           495          ASAN_OM  \n",
      "3      150000.0             ASAN_OM           495          ASAN_OM  \n",
      "4      500000.0                PRMC           411             PRMC  \n",
      "1446  1000000.0            AUTO_AGR           635         AUTO_AGR  \n",
      "1447   740000.0            AUTO_AGR           635         AUTO_AGR  \n",
      "5        6800.0             ASAN_OM           495          ASAN_OM  \n",
      "1448    44000.0             OFCB_OM           569          OFCB_OM  \n",
      "6      200000.0        TCBM02_00_OM          4966     TCBM02_00_OM  \n",
      "1449  1000000.0            AUTO_AGR           635         AUTO_AGR  \n",
      "1450   300000.0             INTF_OM           731          INTF_OM  \n",
      "7      310000.0        TCBM02_00_OM          4966     TCBM02_00_OM  \n",
      "8      100000.0        TCBM02_00_OM          4966     TCBM02_00_OM  \n",
      "9       10000.0             ASAN_OM           495          ASAN_OM  \n",
      "10       8000.0             OFCB_OM           569          OFCB_OM  \n",
      "11     100000.0             ASAN_OM           495          ASAN_OM  \n",
      "1451    75000.0               MRBR3          4299            MRBR3  \n",
      "12     500000.0                PRMC           411             PRMC  \n",
      "1452   120000.0               MRBR3          4299            MRBR3  \n",
      "13     100000.0             ASAN_OM           495          ASAN_OM  \n",
      "14       5000.0             ASAN_OM           495          ASAN_OM  \n",
      "15     100000.0             ASAN_OM           495          ASAN_OM  \n",
      "16      22319.0            ROSX1_OM          1082         ROSX1_OM  \n",
      "1453   250000.0             OFCB_OM           569          OFCB_OM  \n",
      "17      50000.0             ASAN_OM           495          ASAN_OM  \n",
      "18     100000.0        TCBM02_00_OM          4966     TCBM02_00_OM  \n",
      "19     100000.0        TCBM02_00_OM          4966     TCBM02_00_OM  \n",
      "20      50000.0        TCBM02_00_OM          4966     TCBM02_00_OM  \n",
      "...         ...                 ...           ...              ...  \n",
      "2744   500000.0        UBSL09_00_OM          4925     UBSL09_00_OM  \n",
      "2745   500000.0        UBSL09_00_OM          4925     UBSL09_00_OM  \n",
      "1432    80000.0          Gareev_AGR           649       Gareev_AGR  \n",
      "1433   500000.0      ALFA_PdifLndST          2524   ALFA_PdifLndST  \n",
      "1434   500000.0      ALFA_PdifLndST          2524   ALFA_PdifLndST  \n",
      "1435   500000.0      ALFA_PdifLndST          2524   ALFA_PdifLndST  \n",
      "2746   500000.0        UBSL12_00_OM          5134     UBSL12_00_OM  \n",
      "1436   500000.0      ALFA_PdifLndST          2524   ALFA_PdifLndST  \n",
      "1437   500000.0      ALFA_PdifLndST          2524   ALFA_PdifLndST  \n",
      "1438  1000000.0        RONI01_00_OM          2259     RONI01_00_OM  \n",
      "1439   400000.0        UBSL12_00_OM          5134     UBSL12_00_OM  \n",
      "1440   500000.0      ALFA_PdifLndST          2524   ALFA_PdifLndST  \n",
      "2754   500000.0             MEIN_OM           721          MEIN_OM  \n",
      "2757   500039.0        BCSR00_01_OM          2021     BCSR00_01_OM  \n",
      "2756   500000.0        BCSR00_01_OM          2021     BCSR00_01_OM  \n",
      "2758   500000.0        UBSL12_00_OM          5134     UBSL12_00_OM  \n",
      "2759   500000.0        UBSL02_00_OM          4066     UBSL02_00_OM  \n",
      "2761   500039.0        BCSR00_01_OM          2021     BCSR00_01_OM  \n",
      "2760   500000.0        BCSR00_01_OM          2021     BCSR00_01_OM  \n",
      "1441   250000.0        CATX01_12_OM          5078     CATX01_12_OM  \n",
      "2762   490000.0     Aleksandrov_AGR           647  Aleksandrov_AGR  \n",
      "2763   500000.0            ROSX_BBG          3856         ROSX_BBG  \n",
      "1442  1000000.0        RZBM00_00_OM          2276     RZBM00_00_OM  \n",
      "1443   250000.0        CATX01_12_OM          5078     CATX01_12_OM  \n",
      "2764  1000000.0        RONI01_00_OM          2259     RONI01_00_OM  \n",
      "2765   300000.0        UBSL02_00_OM          4066     UBSL02_00_OM  \n",
      "2766   100000.0        UBSL12_00_OM          5134     UBSL12_00_OM  \n",
      "2767   200000.0        UBSL09_00_OM          4925     UBSL09_00_OM  \n",
      "1444   300000.0        UBSL09_00_OM          4925     UBSL09_00_OM  \n",
      "2768   500000.0        UBSL02_00_OM          4066     UBSL02_00_OM  \n",
      "\n",
      "[2560 rows x 10 columns]\n"
     ]
    }
   ],
   "source": [
    "print(df)"
   ]
  },
  {
   "cell_type": "code",
   "execution_count": null,
   "metadata": {},
   "outputs": [],
   "source": []
  }
 ],
 "metadata": {
  "kernelspec": {
   "display_name": "Python 3",
   "language": "python",
   "name": "python3"
  },
  "language_info": {
   "codemirror_mode": {
    "name": "ipython",
    "version": 3
   },
   "file_extension": ".py",
   "mimetype": "text/x-python",
   "name": "python",
   "nbconvert_exporter": "python",
   "pygments_lexer": "ipython3",
   "version": "3.6.4"
  }
 },
 "nbformat": 4,
 "nbformat_minor": 2
}
